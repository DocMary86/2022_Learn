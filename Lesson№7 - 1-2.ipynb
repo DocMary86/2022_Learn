{
 "cells": [
  {
   "cell_type": "code",
   "execution_count": 1,
   "id": "2d21a9ce",
   "metadata": {},
   "outputs": [],
   "source": [
    "import numpy as np"
   ]
  },
  {
   "cell_type": "code",
   "execution_count": 2,
   "id": "3b0e4dba",
   "metadata": {},
   "outputs": [
    {
     "data": {
      "text/plain": [
       "array([ 35,  45, 190, 200,  40,  70,  54, 150, 120, 110])"
      ]
     },
     "execution_count": 2,
     "metadata": {},
     "output_type": "execute_result"
    }
   ],
   "source": [
    "X = np.array([35, 45, 190, 200, 40, 70, 54, 150, 120, 110])\n",
    "X"
   ]
  },
  {
   "cell_type": "code",
   "execution_count": 3,
   "id": "b24b5d8e",
   "metadata": {},
   "outputs": [
    {
     "data": {
      "text/plain": [
       "array([401, 574, 874, 919, 459, 739, 653, 902, 746, 832])"
      ]
     },
     "execution_count": 3,
     "metadata": {},
     "output_type": "execute_result"
    }
   ],
   "source": [
    "y = np.array([401, 574, 874, 919, 459, 739, 653, 902, 746, 832])\n",
    "y"
   ]
  },
  {
   "cell_type": "code",
   "execution_count": 4,
   "id": "2ac79925",
   "metadata": {},
   "outputs": [
    {
     "data": {
      "text/plain": [
       "10"
      ]
     },
     "execution_count": 4,
     "metadata": {},
     "output_type": "execute_result"
    }
   ],
   "source": [
    "n = len(X)\n",
    "n"
   ]
  },
  {
   "cell_type": "code",
   "execution_count": 6,
   "id": "c545f03b",
   "metadata": {},
   "outputs": [
    {
     "data": {
      "text/plain": [
       "2.620538882402765"
      ]
     },
     "execution_count": 6,
     "metadata": {},
     "output_type": "execute_result"
    }
   ],
   "source": [
    "b = (np.mean(X*y)-np.mean(X)*np.mean(y))/(np.mean(X**2)-np.mean(X)**2)\n",
    "b"
   ]
  },
  {
   "cell_type": "code",
   "execution_count": 8,
   "id": "b15ec5ad",
   "metadata": {},
   "outputs": [
    {
     "data": {
      "text/plain": [
       "444.1773573243596"
      ]
     },
     "execution_count": 8,
     "metadata": {},
     "output_type": "execute_result"
    }
   ],
   "source": [
    "a = np.mean(y)-b*np.mean(X)\n",
    "a"
   ]
  },
  {
   "cell_type": "code",
   "execution_count": 9,
   "id": "d69a8d06",
   "metadata": {},
   "outputs": [],
   "source": [
    "## Без интерсепта"
   ]
  },
  {
   "cell_type": "code",
   "execution_count": 10,
   "id": "1c63040a",
   "metadata": {},
   "outputs": [
    {
     "data": {
      "text/plain": [
       "array([ 35,  45, 190, 200,  40,  70,  54, 150, 120, 110])"
      ]
     },
     "execution_count": 10,
     "metadata": {},
     "output_type": "execute_result"
    }
   ],
   "source": [
    "X = np.array([35, 45, 190, 200, 40, 70, 54, 150, 120, 110])\n",
    "X"
   ]
  },
  {
   "cell_type": "code",
   "execution_count": 11,
   "id": "f6944954",
   "metadata": {},
   "outputs": [
    {
     "data": {
      "text/plain": [
       "array([[ 35],\n",
       "       [ 45],\n",
       "       [190],\n",
       "       [200],\n",
       "       [ 40],\n",
       "       [ 70],\n",
       "       [ 54],\n",
       "       [150],\n",
       "       [120],\n",
       "       [110]])"
      ]
     },
     "execution_count": 11,
     "metadata": {},
     "output_type": "execute_result"
    }
   ],
   "source": [
    "X = X.reshape((10, 1))\n",
    "X"
   ]
  },
  {
   "cell_type": "code",
   "execution_count": 12,
   "id": "7278e75a",
   "metadata": {},
   "outputs": [
    {
     "data": {
      "text/plain": [
       "array([401, 574, 874, 919, 459, 739, 653, 902, 746, 832])"
      ]
     },
     "execution_count": 12,
     "metadata": {},
     "output_type": "execute_result"
    }
   ],
   "source": [
    "y = np.array([401, 574, 874, 919, 459, 739, 653, 902, 746, 832])\n",
    "y"
   ]
  },
  {
   "cell_type": "code",
   "execution_count": 13,
   "id": "27945121",
   "metadata": {},
   "outputs": [
    {
     "data": {
      "text/plain": [
       "array([[401],\n",
       "       [574],\n",
       "       [874],\n",
       "       [919],\n",
       "       [459],\n",
       "       [739],\n",
       "       [653],\n",
       "       [902],\n",
       "       [746],\n",
       "       [832]])"
      ]
     },
     "execution_count": 13,
     "metadata": {},
     "output_type": "execute_result"
    }
   ],
   "source": [
    "y = y.reshape((10,1))\n",
    "y"
   ]
  },
  {
   "cell_type": "code",
   "execution_count": 15,
   "id": "6afae813",
   "metadata": {},
   "outputs": [
    {
     "data": {
      "text/plain": [
       "array([[5.88982042]])"
      ]
     },
     "execution_count": 15,
     "metadata": {},
     "output_type": "execute_result"
    }
   ],
   "source": [
    "B = np.dot(np.linalg.inv(np.dot(X.T,X)), X.T @ y)\n",
    "B"
   ]
  },
  {
   "cell_type": "code",
   "execution_count": 16,
   "id": "5caffb8d",
   "metadata": {},
   "outputs": [],
   "source": [
    "## Посчитать коэффициент линейной регрессии при заработной плате (zp), используя градиентный спуск (без intercept)"
   ]
  },
  {
   "cell_type": "code",
   "execution_count": 17,
   "id": "0d72b082",
   "metadata": {},
   "outputs": [
    {
     "data": {
      "text/plain": [
       "array([ 35,  45, 190, 200,  40,  70,  54, 150, 120, 110])"
      ]
     },
     "execution_count": 17,
     "metadata": {},
     "output_type": "execute_result"
    }
   ],
   "source": [
    "X = np.array([35, 45, 190, 200, 40, 70, 54, 150, 120, 110])\n",
    "X"
   ]
  },
  {
   "cell_type": "code",
   "execution_count": 18,
   "id": "6a7cf00f",
   "metadata": {},
   "outputs": [
    {
     "data": {
      "text/plain": [
       "array([401, 574, 874, 919, 459, 739, 653, 902, 746, 832])"
      ]
     },
     "execution_count": 18,
     "metadata": {},
     "output_type": "execute_result"
    }
   ],
   "source": [
    "y = np.array([401, 574, 874, 919, 459, 739, 653, 902, 746, 832])\n",
    "y"
   ]
  },
  {
   "cell_type": "code",
   "execution_count": 19,
   "id": "4b782174",
   "metadata": {},
   "outputs": [],
   "source": [
    "def mse_(B1, y=y, X=X, n=10):\n",
    "    return np.sum((B1*X-y)**2)/n"
   ]
  },
  {
   "cell_type": "code",
   "execution_count": 20,
   "id": "5b2f352d",
   "metadata": {},
   "outputs": [],
   "source": [
    "B1 = 0.5"
   ]
  },
  {
   "cell_type": "code",
   "execution_count": 21,
   "id": "20c42f42",
   "metadata": {},
   "outputs": [
    {
     "data": {
      "text/plain": [
       "1e-06"
      ]
     },
     "execution_count": 21,
     "metadata": {},
     "output_type": "execute_result"
    }
   ],
   "source": [
    "alpha = 1e-6\n",
    "alpha"
   ]
  },
  {
   "cell_type": "code",
   "execution_count": 24,
   "id": "0a0e28a4",
   "metadata": {},
   "outputs": [
    {
     "name": "stdout",
     "output_type": "stream",
     "text": [
      "Iteration: 0, B1=0.7929217624382401, mse=414410.55220897525\n",
      "Iteration: 20000, B1=5.889820420132673, mse=56516.85841571943\n",
      "Iteration: 40000, B1=5.889820420132673, mse=56516.85841571943\n",
      "Iteration: 60000, B1=5.889820420132673, mse=56516.85841571943\n",
      "Iteration: 80000, B1=5.889820420132673, mse=56516.85841571943\n"
     ]
    }
   ],
   "source": [
    "for i in range(100000):\n",
    "    B1 -= alpha*(2/n)*np.sum((B1*X-y)*X)\n",
    "    if i%20000 == 0:\n",
    "        print('Iteration: {i}, B1={B1}, mse={mse}'.format(i=i, B1=B1, mse=mse_(B1)))"
   ]
  },
  {
   "cell_type": "code",
   "execution_count": null,
   "id": "631c3954",
   "metadata": {},
   "outputs": [],
   "source": []
  }
 ],
 "metadata": {
  "kernelspec": {
   "display_name": "Python 3",
   "language": "python",
   "name": "python3"
  },
  "language_info": {
   "codemirror_mode": {
    "name": "ipython",
    "version": 3
   },
   "file_extension": ".py",
   "mimetype": "text/x-python",
   "name": "python",
   "nbconvert_exporter": "python",
   "pygments_lexer": "ipython3",
   "version": "3.8.8"
  }
 },
 "nbformat": 4,
 "nbformat_minor": 5
}
