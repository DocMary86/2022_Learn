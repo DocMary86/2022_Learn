{
 "cells": [
  {
   "cell_type": "code",
   "execution_count": 8,
   "id": "fb0a6a8e",
   "metadata": {},
   "outputs": [],
   "source": [
    "z_t = 1.96"
   ]
  },
  {
   "cell_type": "code",
   "execution_count": 9,
   "id": "355e76c5",
   "metadata": {},
   "outputs": [
    {
     "name": "stdout",
     "output_type": "stream",
     "text": [
      "172.31398912064722 176.08601087935276\n"
     ]
    }
   ],
   "source": [
    "n = 27\n",
    "mu = 174.2\n",
    "std = 5\n",
    "print(mu - t * std / np.sqrt(n), mu + t * std / np.sqrt(n))"
   ]
  },
  {
   "cell_type": "code",
   "execution_count": null,
   "id": "b64232e3",
   "metadata": {},
   "outputs": [],
   "source": []
  }
 ],
 "metadata": {
  "kernelspec": {
   "display_name": "Python 3",
   "language": "python",
   "name": "python3"
  },
  "language_info": {
   "codemirror_mode": {
    "name": "ipython",
    "version": 3
   },
   "file_extension": ".py",
   "mimetype": "text/x-python",
   "name": "python",
   "nbconvert_exporter": "python",
   "pygments_lexer": "ipython3",
   "version": "3.8.8"
  }
 },
 "nbformat": 4,
 "nbformat_minor": 5
}
